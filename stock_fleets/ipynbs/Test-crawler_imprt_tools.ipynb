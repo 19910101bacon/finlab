{
 "cells": [
  {
   "cell_type": "code",
   "execution_count": 1,
   "metadata": {
    "scrolled": false
   },
   "outputs": [],
   "source": [
    "import sys,os\n",
    "sys.path.append(\"..\")\n",
    "import django\n",
    "django.setup()\n",
    "import pandas as pd\n",
    "from io import StringIO\n",
    "import requests\n",
    "from crawlers.finlab.crawler_import_tools import *\n",
    "from sqlalchemy import create_engine\n",
    "import datetime\n",
    "from crawlers.models import *"
   ]
  },
  {
   "cell_type": "markdown",
   "metadata": {},
   "source": [
    "#  爬蟲測試範例"
   ]
  },
  {
   "cell_type": "code",
   "execution_count": 2,
   "metadata": {},
   "outputs": [
    {
     "name": "stderr",
     "output_type": "stream",
     "text": [
      "/Users/benbilly3/opt/anaconda3/lib/python3.7/site-packages/pymysql/cursors.py:170: Warning: (3719, \"'utf8' is currently an alias for the character set UTF8MB3, but will be an alias for UTF8MB4 in a future release. Please consider using UTF8MB4 in order to be unambiguous.\")\n",
      "  result = self._query(query)\n"
     ]
    },
    {
     "name": "stdout",
     "output_type": "stream",
     "text": [
      "crawlers_stockpricetw table_latest_date:2020-03-31 18:40:47\n",
      "Finish Update Work\n"
     ]
    }
   ],
   "source": [
    "def crawl_stockpricetw(date):\n",
    "    \n",
    "    # 上市爬蟲,將 date 變成字串 舉例：'20180525' \n",
    "    datestr = date.strftime('%Y%m%d')\n",
    "    \n",
    "    # 從網站上依照 datestr 將指定日期的股價抓下來\n",
    "    r = requests.post('http://www.twse.com.tw/exchangeReport/MI_INDEX?response=csv&date=' + datestr + '&type=ALLBUT0999')\n",
    "    \n",
    "    # 將抓下來的資料（r.text），其中的等號給刪除\n",
    "    content = r.text.replace('=', '')\n",
    "    \n",
    "    # 將 column 數量小於等於 10 的行數都刪除\n",
    "    lines = content.split('\\n')\n",
    "    lines = list(filter(lambda l:len(l.split('\",')) > 10, lines))\n",
    "    \n",
    "    # 將每一行再合成同一行，並用肉眼看不到的換行符號'\\n'分開\n",
    "    content = \"\\n\".join(lines)\n",
    "    \n",
    "    # 假如沒下載到，則回傳None（代表抓不到資料）\n",
    "    if content == '':\n",
    "        return None\n",
    "    \n",
    "    # 將content變成檔案：StringIO，並且用pd.read_csv將表格讀取進來\n",
    "    df = pd.read_csv(StringIO(content))\n",
    "      \n",
    "    \n",
    "    # 將表格中的元素都換成字串，並把其中的逗號刪除\n",
    "    df = df.astype(str)\n",
    "    df = df.apply(lambda s: s.str.replace(',', ''))\n",
    "    \n",
    "   # 將「證券代號」的欄位改名成「stock_id」\n",
    "    df = df.rename(columns={'證券代號':'stock_id'})\n",
    "    #設定date欄位\n",
    "    df['date'] = pd.to_datetime(date)\n",
    "    # 將 「stock_id」與「date」設定成index \n",
    "    df = df.set_index(['stock_id','date'])\n",
    "    \n",
    "    # 保留證券名稱,將所有的表格元素都轉換成數字，error='coerce'的意思是說，假如無法轉成數字，則用 NaN 取代\n",
    "    df =pd.concat([df.iloc[:,:1],df.iloc[:,1:].apply(lambda s:pd.to_numeric(s, errors='coerce'))],axis=1)\n",
    "    \n",
    "    # 刪除不必要的欄位\n",
    "    df = df[df.columns[df.isnull().all() == False]]\n",
    "    \n",
    "    #新增欄位     \n",
    "    df=df.loc[:,[\"證券名稱\",'成交股數','成交金額','開盤價','收盤價','最高價','最低價']]\n",
    "    \n",
    "    #上櫃爬蟲，將 date 變成字串 舉例：'1071012' \n",
    "    Y=str(int(date.strftime('%Y'))-1911)\n",
    "\n",
    "    datestr = Y+'/'+date.strftime('%m')+'/'+date.strftime('%d')\n",
    "    link = 'http://www.tpex.org.tw/web/stock/aftertrading/daily_close_quotes/stk_quote_download.php?l=zh-tw&d='+datestr+'&s=0,asc,0'\n",
    "    r = requests.get(link)\n",
    "\n",
    "    lines = r.text.replace('\\r', '').split('\\n')\n",
    "    df2 = pd.read_csv(StringIO(\"\\n\".join(lines[3:])), header=None)\n",
    "    \n",
    "    #設定欄名\n",
    "    df2.columns = list(map(lambda l: l.replace(' ',''), lines[2].split(',')))\n",
    "    \n",
    "    #資料處理\n",
    "    df2 = df2.apply(lambda s: s.str.replace(',', '')).apply(lambda s: s.str.replace('+', ''))\n",
    "    df2 = df2.rename(columns={'代號':'舊證券代號',\"名稱\":\"證券名稱\",\"收盤\":\"收盤價\",\"漲跌\":\"漲跌價\",\"開盤\":\"開盤價\",\n",
    "                        \"最高\":\"最高價\",\"最低\":\"最低價\",'成交金額(元)':'成交金額'})\n",
    "    df2['stock_id']=df2['舊證券代號']\n",
    "    df2=pd.concat([df2.iloc[:,:1].apply(lambda s:pd.to_numeric(s,errors='coerce')),df2.iloc[:,1:]],axis=1)\n",
    "    df2= df2[df2['舊證券代號']<9999]\n",
    "    df2['date'] = pd.to_datetime(date)\n",
    "    df2 = df2.set_index(['stock_id','date'])\n",
    "    df2=df2.drop(['舊證券代號'],axis=1)\n",
    "    df2 =pd.concat([df2.iloc[:,:1],df2.iloc[:,1:].apply(lambda s:pd.to_numeric(s, errors='coerce'))],axis=1)\n",
    "\n",
    "    df2=df2.loc[:,[\"證券名稱\",'成交股數','成交金額','開盤價','收盤價','最高價','最低價']]\n",
    "    \n",
    "    #上市與上櫃合體\n",
    "    df3=pd.concat([df,df2],axis=0)\n",
    "    df3 = df3.rename(columns={'證券名稱':'stock_name',\"成交股數\":\"turnover_vol\",\n",
    "                              \"成交金額\":\"turnover_price\",\"開盤價\":\"open_price\",\n",
    "                              \"收盤價\":\"close_price\",\"最高價\":\"high_price\",\n",
    "                              \"最低價\":\"low_price\"})\n",
    "    df3.iloc[:,3:]=df3.iloc[:,3:].apply(lambda s:pd.to_numeric(s,errors='coerce'))\n",
    "    \n",
    "    df3=df3.where(pd.notnull(df3),None)\n",
    "    df3=df3.reset_index()\n",
    "    return df3\n",
    "\n",
    "#輸入日期\n",
    "import datetime\n",
    "df=crawl_stockpricetw(datetime.datetime(2010,12,10))\n",
    "\n",
    "\n",
    "#執行主程式\n",
    "D=CrawlerProcess(crawl_stockpricetw,StockPriceTW)\n",
    "print(D)\n",
    "D.auto_update_crawl()"
   ]
  },
  {
   "cell_type": "code",
   "execution_count": null,
   "metadata": {},
   "outputs": [],
   "source": [
    "df['date'].iloc[0].strftime('%Y-%m-%d')"
   ]
  },
  {
   "cell_type": "code",
   "execution_count": null,
   "metadata": {},
   "outputs": [],
   "source": [
    "D.specified_date_crawl('2020-03-31','2020-03-31')"
   ]
  },
  {
   "cell_type": "markdown",
   "metadata": {},
   "source": [
    "# Bulk 功能批次匯入資料庫測試"
   ]
  },
  {
   "cell_type": "markdown",
   "metadata": {},
   "source": [
    "# # 檢查日期\n",
    "\n",
    "加快寫入速度"
   ]
  },
  {
   "cell_type": "code",
   "execution_count": null,
   "metadata": {},
   "outputs": [],
   "source": [
    "table=StockPriceTW._meta.db_table\n",
    "date='2005-02-14'\n",
    "a=\"SELECT date FROM \"+table+\" where date ='\"+date+\"'\"\n",
    "cursor = list(engine.execute(a))\n",
    "cursor\n",
    "\n",
    "def in_date_list(conn, model_name,check_date):\n",
    "    table=model_name._meta.db_table\n",
    "    cursor = list(conn.execute(\"SELECT date FROM \"+table+\" where date ='\"+check_date+\"'\"))\n",
    "    if len(cursor)>0:\n",
    "        return True\n",
    "    else:\n",
    "        return False\n",
    "\n",
    "y=in_date_list(engine, StockPriceTW,'2005-2-14')\n",
    "y"
   ]
  },
  {
   "cell_type": "markdown",
   "metadata": {},
   "source": [
    "## 主程式"
   ]
  },
  {
   "cell_type": "code",
   "execution_count": null,
   "metadata": {},
   "outputs": [],
   "source": [
    "connect_info = 'mysql+pymysql://{}:{}@{}:{}/{}?charset=utf8'.format(\"root\",\"benbilly3@\",\"localhost\",3306,\"finlab_django\")\n",
    "engine = create_engine(connect_info)\n",
    "\n",
    "def add_to_sql(model_name, df):\n",
    "\n",
    "    bulk_update_data=[]\n",
    "    bulk_create_data=[] \n",
    "    \n",
    "    # if data_date isn't in table,process bulk_create\n",
    "    data_date=df['date'].iloc[0].strftime('%Y-%m-%d')\n",
    "    check_date=in_date_list(engine,model_name,data_date)\n",
    "    \n",
    "    if check_date == False:\n",
    "    # Change CSV to iterrow\n",
    "        for index, item in df.iterrows():\n",
    "            # Use bulk_update to update obj,PS:must include primekey column\n",
    "            try:\n",
    "                obj_create_data = dict((field.name,item[field.name]) for field in model_name._meta.fields if\n",
    "                                    field.name != 'id')\n",
    "                obj_create=model_name(**obj_create_data)\n",
    "                bulk_create_data.append(obj_create)            \n",
    "                print(f\"create{' '}{model_name}{' '}Stock_id:{item['stock_id']}{' '}Date:{item['date']}\")\n",
    "\n",
    "            except Exception as e:\n",
    "                print(f\"error{' '}{e}{' '}Stock_id:{item['stock_id']}{' '}Date:{item['date']}\")\n",
    "                pass            \n",
    " \n",
    "\n",
    "    else:\n",
    "        # Change CSV to iterrow\n",
    "        for index, item in df.iterrows():\n",
    "\n",
    "            # Use bulk_update to update obj,PS:must include primekey column\n",
    "            try:\n",
    "                obj_check = model_name.objects.get(stock_id=item['stock_id'], date=item['date'])\n",
    "                obj_update_data = list((field.name,item[field.name]) if field.name !='id' else (field.name,obj_check.id) for field in model_name._meta.fields)\n",
    "\n",
    "                for attributes,update_value in obj_update_data:\n",
    "                    obj_check.attribute=update_value\n",
    "\n",
    "                bulk_update_data.append(obj_check)\n",
    "                print(f\"update{' '}{model_name}{' '}Stock_id:{item['stock_id']}{' '}Date:{item['date']}\")\n",
    "\n",
    "            # Use dict to bulk_create obj when get nothing ,process incomplete data\n",
    "            except ObjectDoesNotExist:\n",
    "                obj_create_data = dict((field.name,item[field.name]) for field in model_name._meta.fields if\n",
    "                                    field.name != 'id')\n",
    "                obj_create=model_name(**obj_create_data)\n",
    "                bulk_create_data.append(obj_create)            \n",
    "                print(f\"create{' '}{model_name}{' '}Stock_id:{item['stock_id']}{' '}Date:{item['date']}\")\n",
    "\n",
    "            except Exception as e:\n",
    "                print(f\"error{' '}{e}{' '}Stock_id:{item['stock_id']}{' '}Date:{item['date']}\")\n",
    "                pass\n",
    "    \n",
    "    # Process bulk\n",
    "    model_name.objects.bulk_create(bulk_create_data, batch_size=1000)\n",
    "    print(f\"Finish{' '}{model_name}{'bulk_create'}{':'}{len(bulk_create_data)}\")\n",
    "    update_fields_area= [field.name for field in model_name._meta.fields if field.name !='id']\n",
    "    model_name.objects.bulk_update(bulk_update_data,update_fields_area, batch_size=1000)\n",
    "    print(f\"Finish{' '}{model_name}{'bulk_update'}{':'}{len(bulk_update_data)}\")\n",
    "    \n",
    "\n",
    "\n",
    "\n"
   ]
  },
  {
   "cell_type": "markdown",
   "metadata": {},
   "source": [
    "# 爬蟲執行檔Class測試"
   ]
  },
  {
   "cell_type": "code",
   "execution_count": 4,
   "metadata": {},
   "outputs": [],
   "source": [
    "class CrawlerProcess:\n",
    "\n",
    "    def __init__(self, func, model_name):\n",
    "        self.crawler_func_name = func\n",
    "        self.model_name = model_name\n",
    "        self.table_latest_date = table_latest_date(engine, self.model_name._meta.db_table)\n",
    "\n",
    "    def __repr__(self):\n",
    "        return str(self.model_name._meta.db_table) + ' ' + \"table_latest_date:\" + str(self.table_latest_date)\n",
    "\n",
    "    def crawl_process(self, date_list: list):\n",
    "        for d in date_list:\n",
    "            df = self.crawler_func_name(d)\n",
    "            try:\n",
    "                ret = df.drop_duplicates(['stock_id', 'date'], keep='last')\n",
    "                add_to_sql(self.model_name, ret)\n",
    "                print(f'Finish {d} Data')\n",
    "\n",
    "            # holiday is blank\n",
    "            except AttributeError:\n",
    "                print(f'fail, check if {d} is a holiday')\n",
    "            time.sleep(12)\n",
    "\n",
    "    # 指定區間，主要為測試用\n",
    "    def specified_date_crawl(self, start_date: str, end_date: str, range_date=date_range):\n",
    "\n",
    "        start_date = datetime.datetime.strptime(start_date, \"%Y-%m-%d\")\n",
    "        end_date = datetime.datetime.strptime(end_date, \"%Y-%m-%d\")\n",
    "        try:\n",
    "            if (start_date - end_date).days <= 0:\n",
    "                date_list = range_date(start_date, end_date)\n",
    "                self.crawl_process(date_list)\n",
    "            else:\n",
    "                print(f\"The start_date > your end_date,please modify your start_date <={end_date} .\")\n",
    "                return None\n",
    "        except ValueError:\n",
    "            print('Error:last_day form is %Y-%m-%d,please modify. ')\n",
    "            return None\n",
    "\n",
    "            # 自動爬取結尾後日期的資料\n",
    "\n",
    "    def working_process(self):\n",
    "        recent = datetime.datetime.now()\n",
    "        day_num = (recent - self.table_latest_date).days\n",
    "        if day_num > 0:\n",
    "            return 0\n",
    "        elif day_num == 0:\n",
    "            return 1\n",
    "        else:\n",
    "            return 2\n",
    "\n",
    "    def auto_update_crawl(self, last_day='Now', range_date=date_range):\n",
    "\n",
    "        try:\n",
    "            if last_day == 'Now':\n",
    "                end_date = datetime.datetime.now()\n",
    "            else:\n",
    "                end_date = datetime.datetime.strptime(last_day, \"%Y-%m-%d\")\n",
    "\n",
    "            if self.working_process() == 0:\n",
    "                start_date = self.table_latest_date\n",
    "                date_list = range_date(start_date, end_date)\n",
    "                self.crawl_process(date_list)\n",
    "\n",
    "            elif self.working_process() == 1:\n",
    "                print(f\"Finish Update Work\")\n",
    "                return None\n",
    "            else:\n",
    "                print(f\"The table_latest_date > your setting date,please modify your setting date >{last_day} .\")\n",
    "                return None\n",
    "        except ValueError:\n",
    "            print('Error:last_day form is %Y-%m-%d,please modify. ')\n",
    "            return None"
   ]
  },
  {
   "cell_type": "code",
   "execution_count": null,
   "metadata": {},
   "outputs": [],
   "source": [
    "D=CrawlerProcess(crawl_stockpricetw,StockPriceTW)\n",
    "print(D)\n",
    "D.auto_update_crawl()"
   ]
  },
  {
   "cell_type": "markdown",
   "metadata": {},
   "source": [
    "# 日期控制測試"
   ]
  },
  {
   "cell_type": "code",
   "execution_count": null,
   "metadata": {},
   "outputs": [],
   "source": [
    "#日期控制\n",
    "import datetime\n",
    "connect_info = 'mysql+pymysql://{}:{}@{}:{}/{}?charset=utf8'.format(\"root\",\"benbilly3@\",\"localhost\",3306,\"finlab_django\")\n",
    "engine = create_engine(connect_info)\n",
    "\n",
    "def date_control(model_name,last_day='Now'):   \n",
    "    try:\n",
    "        if last_day=='Now':\n",
    "            recent=datetime.datetime.now()\n",
    "        else:   \n",
    "            recent= datetime.datetime.strptime(last_day, \"%Y-%m-%d\")\n",
    "        end= table_latest_date(engine, model_name._meta.db_table)\n",
    "        if (recent-end).days>=0:\n",
    "            dateList = [(recent - datetime.timedelta(days=x)) for x in range((recent-end).days,-1,-1)]\n",
    "        else:\n",
    "            print(f\"The table_latest_date > your setting date,please modify your setting date >{last_day} .\")\n",
    "            return None\n",
    "    except ValueError :\n",
    "        print('Error:last_day form is %Y-%m-%d,please modify. ')\n",
    "        return None\n",
    "    return dateList\n",
    "\n",
    "date_control(StockPriceTW)"
   ]
  },
  {
   "cell_type": "code",
   "execution_count": null,
   "metadata": {},
   "outputs": [],
   "source": [
    "date_control(StockPriceTW,'2008-09-01')"
   ]
  },
  {
   "cell_type": "code",
   "execution_count": null,
   "metadata": {},
   "outputs": [],
   "source": [
    "def specified_date_crawl(start_date:str,end_date:str):\n",
    "    \n",
    "    start_date= datetime.datetime.strptime(start_date, \"%Y-%m-%d\")\n",
    "    end_date= datetime.datetime.strptime(end_date, \"%Y-%m-%d\")\n",
    "    try:\n",
    "        if (start_date-end_date).days <= 0:\n",
    "            dateList = date_range(start_date, end_date)\n",
    "        else:\n",
    "            print(f\"The start_date > your end_date,please modify your start_date <={end_date} .\")\n",
    "            return None\n",
    "    except ValueError :\n",
    "        print('Error:last_day form is %Y-%m-%d,please modify. ')\n",
    "        return None       \n",
    "    return dateList\n",
    "\n",
    "\n",
    "specified_date_crawl('2020-01-01','2020-01-05')\n"
   ]
  },
  {
   "cell_type": "code",
   "execution_count": null,
   "metadata": {},
   "outputs": [],
   "source": [
    "from dateutil.rrule import rrule, DAILY, MONTHLY\n",
    "\n",
    "\n",
    "\n",
    "def date_range(start_date, end_date):\n",
    "    return [dt.date() for dt in rrule(DAILY, dtstart=start_date, until=end_date)]"
   ]
  },
  {
   "cell_type": "code",
   "execution_count": null,
   "metadata": {},
   "outputs": [],
   "source": [
    "date_range(datetime.datetime(2010,12,10), datetime.datetime(2010,12,15))"
   ]
  },
  {
   "cell_type": "code",
   "execution_count": null,
   "metadata": {},
   "outputs": [],
   "source": []
  }
 ],
 "metadata": {
  "kernelspec": {
   "display_name": "Python 3",
   "language": "python",
   "name": "python3"
  },
  "language_info": {
   "codemirror_mode": {
    "name": "ipython",
    "version": 3
   },
   "file_extension": ".py",
   "mimetype": "text/x-python",
   "name": "python",
   "nbconvert_exporter": "python",
   "pygments_lexer": "ipython3",
   "version": "3.7.4"
  }
 },
 "nbformat": 4,
 "nbformat_minor": 2
}
